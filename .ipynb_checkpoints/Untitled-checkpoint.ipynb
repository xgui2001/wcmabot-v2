{
 "cells": [
  {
   "cell_type": "code",
   "execution_count": 10,
   "metadata": {},
   "outputs": [
    {
     "data": {
      "text/html": [
       "<div>\n",
       "<style scoped>\n",
       "    .dataframe tbody tr th:only-of-type {\n",
       "        vertical-align: middle;\n",
       "    }\n",
       "\n",
       "    .dataframe tbody tr th {\n",
       "        vertical-align: top;\n",
       "    }\n",
       "\n",
       "    .dataframe thead th {\n",
       "        text-align: right;\n",
       "    }\n",
       "</style>\n",
       "<table border=\"1\" class=\"dataframe\">\n",
       "  <thead>\n",
       "    <tr style=\"text-align: right;\">\n",
       "      <th></th>\n",
       "      <th>title</th>\n",
       "      <th>object_name</th>\n",
       "      <th>medium</th>\n",
       "      <th>description</th>\n",
       "    </tr>\n",
       "  </thead>\n",
       "  <tbody>\n",
       "    <tr>\n",
       "      <th>0</th>\n",
       "      <td>GRANDE MATINÉE DE BIENFAISANCE EN L'HONNEUR DE...</td>\n",
       "      <td>poster</td>\n",
       "      <td>poster</td>\n",
       "      <td>NaN</td>\n",
       "    </tr>\n",
       "    <tr>\n",
       "      <th>1</th>\n",
       "      <td>The Song of Songs (with text from \"Song of Sol...</td>\n",
       "      <td>book of prints</td>\n",
       "      <td>book of 9 silkscreens; boxed book with text</td>\n",
       "      <td>SEE individual screens 81.19.A-I</td>\n",
       "    </tr>\n",
       "    <tr>\n",
       "      <th>2</th>\n",
       "      <td>Silver Grotto / Yellow Grotto</td>\n",
       "      <td>screenprint</td>\n",
       "      <td>screenprint on paper</td>\n",
       "      <td>NaN</td>\n",
       "    </tr>\n",
       "    <tr>\n",
       "      <th>3</th>\n",
       "      <td>Sketch of a foot</td>\n",
       "      <td>drawing</td>\n",
       "      <td>pencil on paper</td>\n",
       "      <td>NaN</td>\n",
       "    </tr>\n",
       "    <tr>\n",
       "      <th>4</th>\n",
       "      <td>OURS.. to fight for, Freedom from want</td>\n",
       "      <td>poster</td>\n",
       "      <td>poster</td>\n",
       "      <td>NaN</td>\n",
       "    </tr>\n",
       "  </tbody>\n",
       "</table>\n",
       "</div>"
      ],
      "text/plain": [
       "                                               title     object_name  \\\n",
       "0  GRANDE MATINÉE DE BIENFAISANCE EN L'HONNEUR DE...          poster   \n",
       "1  The Song of Songs (with text from \"Song of Sol...  book of prints   \n",
       "2                      Silver Grotto / Yellow Grotto     screenprint   \n",
       "3                                   Sketch of a foot         drawing   \n",
       "4             OURS.. to fight for, Freedom from want          poster   \n",
       "\n",
       "                                        medium  \\\n",
       "0                                       poster   \n",
       "1  book of 9 silkscreens; boxed book with text   \n",
       "2                         screenprint on paper   \n",
       "3                              pencil on paper   \n",
       "4                                       poster   \n",
       "\n",
       "                        description  \n",
       "0                               NaN  \n",
       "1  SEE individual screens 81.19.A-I  \n",
       "2                               NaN  \n",
       "3                               NaN  \n",
       "4                               NaN  "
      ]
     },
     "execution_count": 10,
     "metadata": {},
     "output_type": "execute_result"
    }
   ],
   "source": [
    "import os\n",
    "import pandas as pd\n",
    "\n",
    "\n",
    "data_dir = os.getcwd()+'/collection'\n",
    "collection_df = pd.read_csv(data_dir+'/wcma-collection - WCMAPubData.csv', usecols = ['title', 'object_name', 'medium', 'description'])\n",
    "\n",
    "collection_df.head()"
   ]
  },
  {
   "cell_type": "code",
   "execution_count": 15,
   "metadata": {
    "scrolled": false
   },
   "outputs": [
    {
     "data": {
      "text/html": [
       "<div>\n",
       "<style scoped>\n",
       "    .dataframe tbody tr th:only-of-type {\n",
       "        vertical-align: middle;\n",
       "    }\n",
       "\n",
       "    .dataframe tbody tr th {\n",
       "        vertical-align: top;\n",
       "    }\n",
       "\n",
       "    .dataframe thead th {\n",
       "        text-align: right;\n",
       "    }\n",
       "</style>\n",
       "<table border=\"1\" class=\"dataframe\">\n",
       "  <thead>\n",
       "    <tr style=\"text-align: right;\">\n",
       "      <th></th>\n",
       "      <th>title</th>\n",
       "      <th>object_name</th>\n",
       "      <th>medium</th>\n",
       "      <th>description</th>\n",
       "    </tr>\n",
       "  </thead>\n",
       "  <tbody>\n",
       "    <tr>\n",
       "      <th>0</th>\n",
       "      <td>GRANDE MATINÉE DE BIENFAISANCE EN L'HONNEUR DE...</td>\n",
       "      <td>poster</td>\n",
       "      <td>poster</td>\n",
       "      <td></td>\n",
       "    </tr>\n",
       "    <tr>\n",
       "      <th>1</th>\n",
       "      <td>The Song of Songs (with text from \"Song of Sol...</td>\n",
       "      <td>book of prints</td>\n",
       "      <td>book of 9 silkscreens; boxed book with text</td>\n",
       "      <td>SEE individual screens 81.19.A-I</td>\n",
       "    </tr>\n",
       "    <tr>\n",
       "      <th>2</th>\n",
       "      <td>Silver Grotto / Yellow Grotto</td>\n",
       "      <td>screenprint</td>\n",
       "      <td>screenprint on paper</td>\n",
       "      <td></td>\n",
       "    </tr>\n",
       "    <tr>\n",
       "      <th>3</th>\n",
       "      <td>Sketch of a foot</td>\n",
       "      <td>drawing</td>\n",
       "      <td>pencil on paper</td>\n",
       "      <td></td>\n",
       "    </tr>\n",
       "    <tr>\n",
       "      <th>4</th>\n",
       "      <td>OURS.. to fight for, Freedom from want</td>\n",
       "      <td>poster</td>\n",
       "      <td>poster</td>\n",
       "      <td></td>\n",
       "    </tr>\n",
       "  </tbody>\n",
       "</table>\n",
       "</div>"
      ],
      "text/plain": [
       "                                               title     object_name  \\\n",
       "0  GRANDE MATINÉE DE BIENFAISANCE EN L'HONNEUR DE...          poster   \n",
       "1  The Song of Songs (with text from \"Song of Sol...  book of prints   \n",
       "2                      Silver Grotto / Yellow Grotto     screenprint   \n",
       "3                                   Sketch of a foot         drawing   \n",
       "4             OURS.. to fight for, Freedom from want          poster   \n",
       "\n",
       "                                        medium  \\\n",
       "0                                       poster   \n",
       "1  book of 9 silkscreens; boxed book with text   \n",
       "2                         screenprint on paper   \n",
       "3                              pencil on paper   \n",
       "4                                       poster   \n",
       "\n",
       "                        description  \n",
       "0                                    \n",
       "1  SEE individual screens 81.19.A-I  \n",
       "2                                    \n",
       "3                                    \n",
       "4                                    "
      ]
     },
     "execution_count": 15,
     "metadata": {},
     "output_type": "execute_result"
    }
   ],
   "source": [
    "collection_df['title'] = collection_df['title'].fillna('').apply(str)\n",
    "collection_df['object_name'] = collection_df['object_name'].fillna('').apply(str)\n",
    "collection_df['medium'] = collection_df['medium'].fillna('').apply(str)\n",
    "collection_df['description'] = collection_df['description'].fillna('').apply(str)\n",
    "\n",
    "collection_df.head()"
   ]
  },
  {
   "cell_type": "code",
   "execution_count": 39,
   "metadata": {},
   "outputs": [
    {
     "data": {
      "text/plain": [
       "0    grande matinée de bienfaisance en l'honneur de...\n",
       "1    the song of songs (with text from song of solo...\n",
       "2                         silver grotto  yellow grotto\n",
       "3                                     sketch of a foot\n",
       "4                  ours to fight for freedom from want\n",
       "Name: title_processed, dtype: object"
      ]
     },
     "execution_count": 39,
     "metadata": {},
     "output_type": "execute_result"
    }
   ],
   "source": [
    "import re\n",
    "\n",
    "collection_df['title_processed'] = collection_df['title'].map(lambda x: re.sub('[,\\.!?''\"\";/~@#$%^&*-+|]', '', x))\n",
    "collection_df['title_processed'] = collection_df['title_processed'].map(lambda x: re.sub('[1234567890]', '', x))\n",
    "collection_df['title_processed'] = collection_df['title_processed'].map(lambda x: x.lower())\n",
    "\n",
    "collection_df['title_processed'].head()"
   ]
  },
  {
   "cell_type": "code",
   "execution_count": 38,
   "metadata": {},
   "outputs": [
    {
     "data": {
      "text/plain": [
       "0            poster\n",
       "1    book of prints\n",
       "2       screenprint\n",
       "3           drawing\n",
       "4            poster\n",
       "Name: object_name_processed, dtype: object"
      ]
     },
     "execution_count": 38,
     "metadata": {},
     "output_type": "execute_result"
    }
   ],
   "source": [
    "collection_df['object_name_processed'] = collection_df['object_name'].map(lambda x: re.sub('[,\\.!?''\"\";/~@#$%^&*-+|]', '', x))\n",
    "collection_df['object_name_processed'] = collection_df['object_name_processed'].map(lambda x: re.sub('[1234567890]', '', x))\n",
    "collection_df['object_name_processed'] = collection_df['object_name_processed'].map(lambda x: x.lower())\n",
    "\n",
    "collection_df['object_name_processed'].head()"
   ]
  },
  {
   "cell_type": "code",
   "execution_count": 37,
   "metadata": {},
   "outputs": [
    {
     "data": {
      "text/plain": [
       "0                                       poster\n",
       "1    book of  silkscreens boxed book with text\n",
       "2                         screenprint on paper\n",
       "3                              pencil on paper\n",
       "4                                       poster\n",
       "Name: medium_processed, dtype: object"
      ]
     },
     "execution_count": 37,
     "metadata": {},
     "output_type": "execute_result"
    }
   ],
   "source": [
    "collection_df['medium_processed'] = collection_df['medium'].map(lambda x: re.sub('[,\\.!?''\"\";/~@#$%^&*-+|]', '', x))\n",
    "collection_df['medium_processed'] = collection_df['medium_processed'].map(lambda x: re.sub('[1234567890]', '', x))\n",
    "collection_df['medium_processed'] = collection_df['medium_processed'].map(lambda x: x.lower())\n",
    "\n",
    "collection_df['medium_processed'].head()"
   ]
  },
  {
   "cell_type": "code",
   "execution_count": 40,
   "metadata": {},
   "outputs": [
    {
     "data": {
      "text/plain": [
       "0                              \n",
       "1    see individual screens a-i\n",
       "2                              \n",
       "3                              \n",
       "4                              \n",
       "Name: description_processed, dtype: object"
      ]
     },
     "execution_count": 40,
     "metadata": {},
     "output_type": "execute_result"
    }
   ],
   "source": [
    "collection_df['description_processed'] = collection_df['description'].map(lambda x: re.sub('[,\\.!?''\"\";/~@#$%^&*-+|]', '', x))\n",
    "collection_df['description_processed'] = collection_df['description_processed'].map(lambda x: re.sub('[1234567890]', '', x))\n",
    "collection_df['description_processed'] = collection_df['description_processed'].map(lambda x: x.lower())\n",
    "\n",
    "collection_df['description_processed'].head()"
   ]
  },
  {
   "cell_type": "code",
   "execution_count": 2,
   "metadata": {},
   "outputs": [
    {
     "ename": "ModuleNotFoundError",
     "evalue": "No module named 'gensim'",
     "output_type": "error",
     "traceback": [
      "\u001b[0;31m---------------------------------------------------------------------------\u001b[0m",
      "\u001b[0;31mModuleNotFoundError\u001b[0m                       Traceback (most recent call last)",
      "\u001b[0;32m<ipython-input-2-cda5bfbd00f2>\u001b[0m in \u001b[0;36m<module>\u001b[0;34m\u001b[0m\n\u001b[0;32m----> 1\u001b[0;31m \u001b[0;32mimport\u001b[0m \u001b[0mgensim\u001b[0m\u001b[0;34m\u001b[0m\u001b[0;34m\u001b[0m\u001b[0m\n\u001b[0m\u001b[1;32m      2\u001b[0m \u001b[0;32mfrom\u001b[0m \u001b[0mgensim\u001b[0m\u001b[0;34m.\u001b[0m\u001b[0mutils\u001b[0m \u001b[0;32mimport\u001b[0m \u001b[0msimple_preprocess\u001b[0m\u001b[0;34m\u001b[0m\u001b[0;34m\u001b[0m\u001b[0m\n\u001b[1;32m      3\u001b[0m \u001b[0;34m\u001b[0m\u001b[0m\n\u001b[1;32m      4\u001b[0m \u001b[0;32mimport\u001b[0m \u001b[0mnltk\u001b[0m\u001b[0;34m\u001b[0m\u001b[0;34m\u001b[0m\u001b[0m\n\u001b[1;32m      5\u001b[0m \u001b[0mnltk\u001b[0m\u001b[0;34m.\u001b[0m\u001b[0mdownload\u001b[0m\u001b[0;34m(\u001b[0m\u001b[0;34m'stopwords'\u001b[0m\u001b[0;34m)\u001b[0m\u001b[0;34m\u001b[0m\u001b[0;34m\u001b[0m\u001b[0m\n",
      "\u001b[0;31mModuleNotFoundError\u001b[0m: No module named 'gensim'"
     ]
    }
   ],
   "source": [
    "import gensim\n",
    "from gensim.utils import simple_preprocess\n",
    "\n",
    "import nltk\n",
    "nltk.download('stopwords')\n",
    "from nltk.corpus import stopwords"
   ]
  },
  {
   "cell_type": "code",
   "execution_count": 33,
   "metadata": {},
   "outputs": [
    {
     "name": "stdout",
     "output_type": "stream",
     "text": [
      "hello\n"
     ]
    }
   ],
   "source": [
    "import re\n",
    "\n",
    "example = \"hello!\"\n",
    "new_ex = re.sub('[,\\.!?''\"\";/~@#$%^&*-+|]', '', example)\n",
    "\n",
    "print(new_ex)"
   ]
  },
  {
   "cell_type": "code",
   "execution_count": 3,
   "metadata": {},
   "outputs": [
    {
     "name": "stdout",
     "output_type": "stream",
     "text": [
      "3.8.5\n"
     ]
    }
   ],
   "source": [
    "from platform import python_version\n",
    "\n",
    "print(python_version())"
   ]
  },
  {
   "cell_type": "code",
   "execution_count": null,
   "metadata": {},
   "outputs": [],
   "source": []
  }
 ],
 "metadata": {
  "kernelspec": {
   "display_name": "Python 3",
   "language": "python",
   "name": "python3"
  },
  "language_info": {
   "codemirror_mode": {
    "name": "ipython",
    "version": 3
   },
   "file_extension": ".py",
   "mimetype": "text/x-python",
   "name": "python",
   "nbconvert_exporter": "python",
   "pygments_lexer": "ipython3",
   "version": "3.8.5"
  }
 },
 "nbformat": 4,
 "nbformat_minor": 4
}
